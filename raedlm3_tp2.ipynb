{
 "cells": [
  {
   "cell_type": "markdown",
   "metadata": {},
   "source": [
    "# Simulation du jeux de LIDO simplifié"
   ]
  },
  {
   "cell_type": "markdown",
   "metadata": {},
   "source": [
    "## Principe\n",
    "On considére un jeux de Lido simple:\n",
    "on dispose d'un un seul pion.\n",
    "\n",
    "- Etape 0 :\n",
    "Le pion doit sort de sa prison lorsqu'on obtient un 6.\n",
    "\n",
    "- Etape 1 :\n",
    "Le pion doit atteindre exactement une position cible situé à N pas de distance de sa prison \n",
    "\n",
    "Soit $X_n$ la variable aléatoire qui represente le nombre de coup nécéssaire pour atteindre la positions cible.\n",
    "\n",
    "**Objectif 1** : Simuler le jeux \n",
    "\n",
    "**Objectif 2** : Calculer une estimation de l'éspérance mathématique de $X_n$ en utilisant `python`\n",
    "\n",
    "**Objéctif 3** : Observer la variation de $\\mathbb{E}(X_n)$ en fonction de $n$\n",
    "\n",
    "<img src=\"LIDO.png\">\n"
   ]
  },
  {
   "cell_type": "code",
   "execution_count": null,
   "metadata": {},
   "outputs": [],
   "source": [
    "import numpy as np"
   ]
  },
  {
   "cell_type": "markdown",
   "metadata": {},
   "source": [
    "### Simulation du lancé de dé"
   ]
  },
  {
   "cell_type": "code",
   "execution_count": null,
   "metadata": {},
   "outputs": [],
   "source": [
    "def Roll():\n",
    "    return int(np.random.choice(range(1,7),1))"
   ]
  },
  {
   "cell_type": "code",
   "execution_count": null,
   "metadata": {},
   "outputs": [],
   "source": [
    "Roll()"
   ]
  },
  {
   "cell_type": "markdown",
   "metadata": {},
   "source": [
    "### Compléter le code et commenter"
   ]
  },
  {
   "cell_type": "markdown",
   "metadata": {
    "scrolled": false
   },
   "source": [
    "A=0\n",
    "NA=0\n",
    "S=10\n",
    "c=0\n",
    "##sorite de prison##\n",
    "temp=Roll()\n",
    "NA+=1\n",
    "print(NA,temp)\n",
    "while temp!=6:\n",
    "    temp=Roll()\n",
    "    NA+=1\n",
    "    print(NA,temp)\n",
    "A=1\n",
    "print('sortie aprés{} coups'.format(NA))\n",
    "print(NA,temp,A)\n",
    "##parcourir vers la cible##\n",
    "while A!=S:\n",
    "    temp=Roll()\n",
    "    if temp+A<S:\n",
    "        A=A+temp\n",
    "        NA+=1\n",
    "        print (NA,temp,A)\n",
    "    elif temp+A>S:\n",
    "        NA+=1\n",
    "        print(NA,temp,A)\n",
    "    else:\n",
    "        A=S\n",
    "        NA+=1\n",
    "        print(NA,temp,A)\n",
    "        \n",
    "    "
   ]
  },
  {
   "cell_type": "markdown",
   "metadata": {},
   "source": [
    "#### reultat de simulation:\n",
    "$S$ =  Nombre des pas nécessaire pour atteindre la cible<br>\n",
    "$A$ =  position du pion<br>\n",
    "$NA$ = nombre du coups effectués<br>\n",
    ".On fait deplacer le pion de sa position initiale A avec un nombre du coups effectués NA afin d'atteindre la cible S <br>\n",
    ".il faut avoir une valeur de dé = 6 pour avancer a la position 1. <br> la fonction sim nous aide a determiner le nombre des essais necessaires pour sortir de sa prison avec un nombre exact de marches por atteindre la cible S \n",
    "\n",
    "\n",
    "\n",
    "\n",
    "\n",
    "### Simulation\n",
    "Ecrire une foction `sim` qui simule le jeux et qui prend comme variable le nombre de pas $n$ nécessazire pour atteindre la cible\n"
   ]
  },
  {
   "cell_type": "code",
   "execution_count": null,
   "metadata": {},
   "outputs": [],
   "source": [
    "def sim(S):\n",
    "    A=0\n",
    "    NA=0\n",
    "    c=0\n",
    "    temp=Roll()\n",
    "    NA+=1\n",
    "    while (temp!=6) :\n",
    "        temp=Roll()\n",
    "        NA+=1\n",
    "        if temp+A<S:\n",
    "            A=A+temp\n",
    "        #NA+=1\n",
    "        elif temp+A>S:\n",
    "            continue\n",
    "        else:\n",
    "            A=S\n",
    "    return c\n",
    "    "
   ]
  },
  {
   "cell_type": "code",
   "execution_count": null,
   "metadata": {},
   "outputs": [],
   "source": [
    "l=[sim(20) for i in range (10000)]\n",
    "moy=sum(l)/10000\n",
    "print('estimation de la moyenne X_30={}'.format(moy))"
   ]
  },
  {
   "cell_type": "markdown",
   "metadata": {},
   "source": [
    "####  Variables que nous avons utilisées \n",
    "- $\"Freq\"$\n",
    "- $\"ESP\"$\n",
    "- $\"x\"$ longueur de table\n",
    "- $\"y\"$ qui prend la fréquence de $sim(u)$ et sa somme et la divise par 5000 dans ce cas dans une plage de $u$ en $x$\n",
    "\n",
    "\n",
    "\n",
    "### Conclusion finale\n",
    "cette simulation renvoie l'ESP du scénario $10^n$ et donne le nuage de points pour la moyenne dans une plage $x$ , qui est de 30 dans ce cas\n",
    "\n",
    "\n",
    "### Simulation de $10^5$  scénario "
   ]
  },
  {
   "cell_type": "code",
   "execution_count": null,
   "metadata": {},
   "outputs": [],
   "source": [
    "Freq=np.fromiter((sim(20) for i in range(10**5)),dtype=int)"
   ]
  },
  {
   "cell_type": "code",
   "execution_count": null,
   "metadata": {},
   "outputs": [],
   "source": [
    "ESP=Freq.sum()/10**5"
   ]
  },
  {
   "cell_type": "code",
   "execution_count": null,
   "metadata": {},
   "outputs": [],
   "source": [
    "x=list(range(10,20))\n",
    "x\n",
    "y=[sum ([sim(u) for i in range(100000)])/100000for u in x]"
   ]
  },
  {
   "cell_type": "code",
   "execution_count": null,
   "metadata": {},
   "outputs": [],
   "source": [
    "y=[np.fromiter((sim(u) for i in range(5*10**4)),dtype=int).sum()/50000 for u in x]"
   ]
  },
  {
   "cell_type": "code",
   "execution_count": null,
   "metadata": {},
   "outputs": [],
   "source": [
    "import matplotlib.pyplot as plt"
   ]
  },
  {
   "cell_type": "code",
   "execution_count": null,
   "metadata": {},
   "outputs": [],
   "source": [
    "plt.plot(x,y,'*')"
   ]
  },
  {
   "cell_type": "code",
   "execution_count": null,
   "metadata": {},
   "outputs": [],
   "source": [
    "from scipy import stats\n",
    "import numpy as np\n",
    "slope, intercept, r_value, p_value, std_err = stats.linregress(x,y)"
   ]
  },
  {
   "cell_type": "code",
   "execution_count": null,
   "metadata": {},
   "outputs": [],
   "source": [
    "slope"
   ]
  },
  {
   "cell_type": "code",
   "execution_count": null,
   "metadata": {},
   "outputs": [],
   "source": [
    "intercept\n"
   ]
  },
  {
   "cell_type": "code",
   "execution_count": null,
   "metadata": {},
   "outputs": [],
   "source": [
    "yy=[slope*u+intercept for u in x]"
   ]
  },
  {
   "cell_type": "code",
   "execution_count": null,
   "metadata": {},
   "outputs": [],
   "source": [
    "plt.plot(x,y,'*')"
   ]
  },
  {
   "cell_type": "markdown",
   "metadata": {},
   "source": [
    "ls"
   ]
  },
  {
   "cell_type": "code",
   "execution_count": null,
   "metadata": {},
   "outputs": [],
   "source": [
    "conda env export >environment.yml"
   ]
  },
  {
   "cell_type": "markdown",
   "metadata": {},
   "source": [
    "**conclusion de l'Objéctif 3 : Observer la variation de  𝔼(𝑋𝑛)  en fonction de  𝑛** <br>\n",
    "    .On a simuler le jeu mathématiquement afin d'avoir `une estimation moyenne` pour degager **une formule mathematique**.<br>\n",
    "    .On obtient une droite d'equation y=ax+b.\n",
    "\n",
    "## CONCLUSION :\n",
    "    -On a put calculer la jouabilité de ce jeu LUDO\n",
    "    -On a trouver une relation entre le nombre de tour du chemin trouver\n",
    "    -L'esperance du jeu est à peut pret égale à \"a\" la pente du droite trouvée\n",
    "    \n",
    "    . c'est un jeu assez simple mais assez amusant"
   ]
  },
  {
   "cell_type": "code",
   "execution_count": null,
   "metadata": {},
   "outputs": [],
   "source": []
  },
  {
   "cell_type": "code",
   "execution_count": null,
   "metadata": {},
   "outputs": [],
   "source": []
  }
 ],
 "metadata": {
  "kernelspec": {
   "display_name": "Python 3",
   "language": "python",
   "name": "python3"
  },
  "language_info": {
   "codemirror_mode": {
    "name": "ipython",
    "version": 3
   },
   "file_extension": ".py",
   "mimetype": "text/x-python",
   "name": "python",
   "nbconvert_exporter": "python",
   "pygments_lexer": "ipython3",
   "version": "3.8.8"
  }
 },
 "nbformat": 4,
 "nbformat_minor": 4
}
